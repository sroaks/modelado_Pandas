{
 "cells": [
  {
   "cell_type": "code",
   "execution_count": 2,
   "metadata": {},
   "outputs": [],
   "source": [
    "import pandas as pd"
   ]
  },
  {
   "cell_type": "code",
   "execution_count": null,
   "metadata": {},
   "outputs": [],
   "source": [
    "# Carga el excel de compras totales\n",
    "compras_totales = pd.read_excel('ct_py.xlsx')"
   ]
  },
  {
   "cell_type": "code",
   "execution_count": null,
   "metadata": {},
   "outputs": [],
   "source": [
    "# Carga el excel de compras semanaes\n",
    "compras_semanales = pd.read_excel('cs_py.xlsx')"
   ]
  },
  {
   "cell_type": "code",
   "execution_count": null,
   "metadata": {},
   "outputs": [],
   "source": [
    "# modificar campos antes de meter\n",
    "compras_semanales['PC.UNIT'] = compras_semanales['TOTAL'] / compras_semanales['CANTIDAD']\n",
    "compras_semanales['AÑO'] = pd.DatetimeIndex(compras_semanales['FECHA']).year\n",
    "compras_semanales['DÍA'] = pd.DatetimeIndex(compras_semanales['FECHA']).day\n",
    "compras_semanales['MES'] = pd.DatetimeIndex(compras_semanales['FECHA']).month\n",
    "compras_semanales['FECHA'] = pd.to_datetime(compras_semanales['FECHA'])\n",
    "compras_semanales['MES.TEXTO'] = compras_semanales['FECHA'].dt.strftime('%B')\n",
    "\n"
   ]
  },
  {
   "cell_type": "code",
   "execution_count": null,
   "metadata": {},
   "outputs": [],
   "source": [
    "print(compras_semanales.head())"
   ]
  },
  {
   "cell_type": "code",
   "execution_count": null,
   "metadata": {},
   "outputs": [],
   "source": [
    "# Guardamos los cambios excel cs\n",
    "compras_semanales.to_excel('cs_py.xlsx', index=False)"
   ]
  },
  {
   "cell_type": "code",
   "execution_count": null,
   "metadata": {},
   "outputs": [],
   "source": [
    "# volver a cargarlo\n",
    "compras_semanales = pd.read_excel('cs_py.xlsx')"
   ]
  },
  {
   "cell_type": "code",
   "execution_count": null,
   "metadata": {},
   "outputs": [],
   "source": [
    "# Meter cs a ct\n",
    "compras_totales = pd.concat([compras_totales, compras_semanales], ignore_index=True)\n"
   ]
  },
  {
   "cell_type": "code",
   "execution_count": null,
   "metadata": {},
   "outputs": [],
   "source": [
    "# Guardamos el excel nuevo para la semana próxima\n",
    "compras_totales.to_excel('ct_py.xlsx', index=False)"
   ]
  },
  {
   "cell_type": "markdown",
   "metadata": {},
   "source": [
    "# Crear el UPC"
   ]
  },
  {
   "cell_type": "code",
   "execution_count": null,
   "metadata": {},
   "outputs": [],
   "source": [
    "compras_totales = pd.read_excel('ct_py.xlsx')"
   ]
  },
  {
   "cell_type": "code",
   "execution_count": null,
   "metadata": {},
   "outputs": [],
   "source": [
    "# Ordenar el DataFrame por REFERENCIA y FECHA\n",
    "ct_py = compras_totales.sort_values(by=['REFERENCIA', 'FECHA'])\n"
   ]
  },
  {
   "cell_type": "code",
   "execution_count": null,
   "metadata": {},
   "outputs": [],
   "source": [
    "# Obtener el último precio de compra para cada referencia de producto\n",
    "upc = ct_py.groupby('REFERENCIA').last()[['PC.UNIT']].reset_index()"
   ]
  },
  {
   "cell_type": "code",
   "execution_count": null,
   "metadata": {},
   "outputs": [],
   "source": [
    "ruta_guardar = r'F:\\VALIJA DIGITAL\\GRS\\analisis\\VSC\\upc.xlsx'"
   ]
  },
  {
   "cell_type": "code",
   "execution_count": null,
   "metadata": {},
   "outputs": [],
   "source": [
    "# crear el excel upc\n",
    "upc.to_excel(ruta_guardar, index=False)"
   ]
  },
  {
   "cell_type": "markdown",
   "metadata": {},
   "source": [
    "# Cargar ventas semanales y realizar los cálculos en los campos"
   ]
  },
  {
   "cell_type": "code",
   "execution_count": 64,
   "metadata": {},
   "outputs": [],
   "source": [
    "# Cargar el excel de clientes y comerciales\n",
    "clientes = pd.read_excel('CLIENTES.xlsx')\n",
    "comerciales = pd.read_excel('comerciales.xlsx')"
   ]
  },
  {
   "cell_type": "code",
   "execution_count": 65,
   "metadata": {},
   "outputs": [],
   "source": [
    "# Carga el excel de ventas semanaes\n",
    "ventas_semanales = pd.read_excel('vs_py.xlsx')"
   ]
  },
  {
   "cell_type": "markdown",
   "metadata": {},
   "source": [
    "nuevos campos: FACTURA, DIA, MES, MES.TXT, AÑO, D.SEM, SEMANA, TRIMESTRE, CLIENTE, COMERCIAL, VENDIDO POR, PC.UNIT, PC.TTL, BENEFICIO, M, PROVEEDOR"
   ]
  },
  {
   "cell_type": "code",
   "execution_count": 66,
   "metadata": {},
   "outputs": [
    {
     "name": "stdout",
     "output_type": "stream",
     "text": [
      "Index(['REFERENCIA', 'DESCRIPCION', 'COD.CLIENTE', 'CANTIDAD', 'PVP', 'DTO.V',\n",
      "       'TTL', 'SERIE', 'NFAC', 'FECHA', 'COD.COMERCIAL', 'FAMILIA'],\n",
      "      dtype='object')\n",
      "Index(['COD.COMER', 'COD.CLIENTE', 'R.SOCIAL', 'NOMBRE COMERCIAL'], dtype='object')\n",
      "Index(['COD', 'VENDIDO POR'], dtype='object')\n"
     ]
    }
   ],
   "source": [
    "print(ventas_semanales.columns)\n",
    "print(clientes.columns)\n",
    "print(comerciales.columns)"
   ]
  },
  {
   "cell_type": "code",
   "execution_count": 67,
   "metadata": {},
   "outputs": [
    {
     "name": "stdout",
     "output_type": "stream",
     "text": [
      "  REFERENCIA        DESCRIPCION  COD.CLIENTE  CANTIDAD     PVP  DTO.V     TTL  \\\n",
      "0        NaN          ENVÍO MRW            1       1.0    8.26    0.0    8.26   \n",
      "1        NaN        INSTALACIÓN            1       1.0   90.00    0.0   90.00   \n",
      "2        NaN        INSTALACION            1       3.0   66.00    0.0  198.00   \n",
      "3        NaN   PORTES PROVEEDOR            1       1.0   69.00    0.0   69.00   \n",
      "4        NaN  INSTALACION TOLDO            1       1.0  110.00    0.0  110.00   \n",
      "\n",
      "  SERIE  NFAC       FECHA  COD.COMERCIAL FAMILIA  \n",
      "0   WEB     4  22/05/2024           34.0     NaN  \n",
      "1    OV  3019  20/05/2024           34.0     NaN  \n",
      "2    OV  3020  20/05/2024           34.0     NaN  \n",
      "3    OV  3034  21/05/2024            NaN     NaN  \n",
      "4  ABOV    73  23/05/2024            NaN     NaN  \n"
     ]
    }
   ],
   "source": [
    "print(ventas_semanales.head())"
   ]
  },
  {
   "cell_type": "code",
   "execution_count": 68,
   "metadata": {},
   "outputs": [],
   "source": [
    "# Concatenar SERIE-NFAC\n",
    "ventas_semanales['FACTURA'] = ventas_semanales['SERIE'].astype(str) + '-' + ventas_semanales['NFAC'].astype(str)\n"
   ]
  },
  {
   "cell_type": "code",
   "execution_count": 69,
   "metadata": {},
   "outputs": [],
   "source": [
    "# FECHA\n",
    "ventas_semanales['FECHA'] = pd.to_datetime(ventas_semanales['FECHA'], dayfirst=True)\n",
    "\n",
    "# Crear nuevas columnas con partes específicas de la fecha\n",
    "ventas_semanales['DIA'] = ventas_semanales['FECHA'].dt.day\n",
    "ventas_semanales['MES'] = ventas_semanales['FECHA'].dt.month\n",
    "ventas_semanales['MES.TXT'] = ventas_semanales['FECHA'].dt.strftime('%B')\n",
    "ventas_semanales['AÑO'] = ventas_semanales['FECHA'].dt.year\n",
    "ventas_semanales['D.SEM'] = ventas_semanales['FECHA'].dt.strftime('%A')\n",
    "ventas_semanales['SEMANA'] = ventas_semanales['FECHA'].dt.isocalendar().week\n",
    "ventas_semanales['TRIMESTRE'] = ventas_semanales['FECHA'].dt.quarter\n",
    "\n",
    "# Verificar que las nuevas columnas se han creado correctamente\n",
    "# print(ventas_semanales.head())"
   ]
  },
  {
   "cell_type": "code",
   "execution_count": 70,
   "metadata": {},
   "outputs": [],
   "source": [
    "# Left join para traer la R.SOCIAL de la tabla clientes\n",
    "ventas_semanales = ventas_semanales.merge(clientes[['COD.CLIENTE', 'R.SOCIAL']], how='left', on='COD.CLIENTE')\n",
    "\n",
    "# la columna R.SOCIAL como CLIENTE\n",
    "ventas_semanales['CLIENTE'] = ventas_semanales['R.SOCIAL']"
   ]
  },
  {
   "cell_type": "code",
   "execution_count": 71,
   "metadata": {},
   "outputs": [],
   "source": [
    "#Eliminar la columna R.SOCIAL\n",
    "ventas_semanales.drop(columns=['R.SOCIAL'], inplace=True)"
   ]
  },
  {
   "cell_type": "code",
   "execution_count": 72,
   "metadata": {},
   "outputs": [],
   "source": [
    "# Left join para traer el COMERCIAL de la tabla CLIENTES\n",
    "ventas_semanales = ventas_semanales.merge(clientes[['COD.CLIENTE', 'NOMBRE COMERCIAL']], how='left', on='COD.CLIENTE')\n",
    "\n",
    "# Renombrar la columna como COMERCIAL\n",
    "ventas_semanales.rename(columns={'NOMBRE COMERCIAL': 'COMERCIAL'}, inplace=True)"
   ]
  },
  {
   "cell_type": "code",
   "execution_count": 73,
   "metadata": {},
   "outputs": [
    {
     "name": "stdout",
     "output_type": "stream",
     "text": [
      "['LF' 'Arnaldo Lopez' 'Angel JR' 'Eduardo Gómez' 'Marta Soto'\n",
      " 'Mónica Rodriguez ' 'Carolina Garcia' 'Gustavo Loarce' 'Jennifer Perez']\n"
     ]
    }
   ],
   "source": [
    "print(ventas_semanales['COMERCIAL'].unique())"
   ]
  },
  {
   "cell_type": "code",
   "execution_count": 74,
   "metadata": {},
   "outputs": [],
   "source": [
    "# Left join para traer el VENDIDO POR de la tabla comerciales\n",
    "ventas_semanales = ventas_semanales.merge(comerciales[['COD', 'VENDIDO POR']], how='left', left_on='COD.COMERCIAL', right_on='COD')"
   ]
  },
  {
   "cell_type": "code",
   "execution_count": 75,
   "metadata": {},
   "outputs": [],
   "source": [
    "#Eliminar la columna COD\n",
    "ventas_semanales.drop(columns=['COD'], inplace=True)"
   ]
  },
  {
   "cell_type": "code",
   "execution_count": 76,
   "metadata": {},
   "outputs": [
    {
     "name": "stderr",
     "output_type": "stream",
     "text": [
      "C:\\Users\\GonzaloRS\\AppData\\Local\\Temp\\ipykernel_17404\\2108872507.py:2: FutureWarning: A value is trying to be set on a copy of a DataFrame or Series through chained assignment using an inplace method.\n",
      "The behavior will change in pandas 3.0. This inplace method will never work because the intermediate object on which we are setting values always behaves as a copy.\n",
      "\n",
      "For example, when doing 'df[col].method(value, inplace=True)', try using 'df.method({col: value}, inplace=True)' or df[col] = df[col].method(value) instead, to perform the operation inplace on the original object.\n",
      "\n",
      "\n",
      "  ventas_semanales['VENDIDO POR'].fillna('LF', inplace=True)\n"
     ]
    }
   ],
   "source": [
    "# Actualizar valores NaN en 'VENDIDO POR' con 'LF'\n",
    "ventas_semanales['VENDIDO POR'].fillna('LF', inplace=True)\n"
   ]
  },
  {
   "cell_type": "code",
   "execution_count": 77,
   "metadata": {},
   "outputs": [
    {
     "name": "stdout",
     "output_type": "stream",
     "text": [
      "['Gonzalo Robles' 'LF' 'Angel JR' 'Jennifer Perez' 'Marta Soto'\n",
      " 'Mónica Rodriguez ' 'Carolina Garcia' 'Gustavo Loarce']\n"
     ]
    }
   ],
   "source": [
    "print(ventas_semanales['VENDIDO POR'].unique())"
   ]
  },
  {
   "cell_type": "code",
   "execution_count": 78,
   "metadata": {},
   "outputs": [],
   "source": [
    "# pc.unit // cargar el excel\n",
    "upc = pd.read_excel('upc.xlsx')"
   ]
  },
  {
   "cell_type": "code",
   "execution_count": 79,
   "metadata": {},
   "outputs": [],
   "source": [
    "upc.rename(columns={'REFERENCIA': 'ID_REF', 'PC.UNIT': 'PRECIO_U'}, inplace=True)"
   ]
  },
  {
   "cell_type": "code",
   "execution_count": 80,
   "metadata": {},
   "outputs": [],
   "source": [
    "# traer el PC.UNIT segun REFERENCIA\n",
    "ventas_semanales = ventas_semanales.merge(upc[['ID_REF', 'PRECIO_U']], how='left', left_on='REFERENCIA', right_on='ID_REF')"
   ]
  },
  {
   "cell_type": "code",
   "execution_count": 81,
   "metadata": {},
   "outputs": [],
   "source": [
    "#Eliminar la columna ID_REF y renombrar la columna PRECIO_U\n",
    "ventas_semanales.drop(columns=['ID_REF'], inplace=True)\n",
    "ventas_semanales.rename(columns={'PRECIO_U': 'PC.UNIT'}, inplace=True)\n"
   ]
  },
  {
   "cell_type": "code",
   "execution_count": 82,
   "metadata": {},
   "outputs": [
    {
     "name": "stdout",
     "output_type": "stream",
     "text": [
      "Index(['REFERENCIA', 'DESCRIPCION', 'COD.CLIENTE', 'CANTIDAD', 'PVP', 'DTO.V',\n",
      "       'TTL', 'SERIE', 'NFAC', 'FECHA', 'COD.COMERCIAL', 'FAMILIA', 'FACTURA',\n",
      "       'DIA', 'MES', 'MES.TXT', 'AÑO', 'D.SEM', 'SEMANA', 'TRIMESTRE',\n",
      "       'CLIENTE', 'COMERCIAL', 'VENDIDO POR', 'PC.UNIT'],\n",
      "      dtype='object')\n"
     ]
    }
   ],
   "source": [
    "print(ventas_semanales.columns)"
   ]
  },
  {
   "cell_type": "code",
   "execution_count": 83,
   "metadata": {},
   "outputs": [
    {
     "name": "stderr",
     "output_type": "stream",
     "text": [
      "C:\\Users\\GonzaloRS\\AppData\\Local\\Temp\\ipykernel_17404\\3128837863.py:2: FutureWarning: A value is trying to be set on a copy of a DataFrame or Series through chained assignment using an inplace method.\n",
      "The behavior will change in pandas 3.0. This inplace method will never work because the intermediate object on which we are setting values always behaves as a copy.\n",
      "\n",
      "For example, when doing 'df[col].method(value, inplace=True)', try using 'df.method({col: value}, inplace=True)' or df[col] = df[col].method(value) instead, to perform the operation inplace on the original object.\n",
      "\n",
      "\n",
      "  ventas_semanales['PC.UNIT'].fillna(ventas_semanales.apply(lambda row: row['PVP'] / 2 if pd.isnull(row['PC.UNIT']) and row['FAMILIA'] == 45 else row['PC.UNIT'], axis=1), inplace=True)\n"
     ]
    }
   ],
   "source": [
    "# Actualizar valores NaN en 'PC.UNIT' con 'PVP/2'\n",
    "ventas_semanales['PC.UNIT'].fillna(ventas_semanales.apply(lambda row: row['PVP'] / 2 if pd.isnull(row['PC.UNIT']) and row['FAMILIA'] == 45 else row['PC.UNIT'], axis=1), inplace=True)\n"
   ]
  },
  {
   "cell_type": "code",
   "execution_count": 84,
   "metadata": {},
   "outputs": [
    {
     "name": "stdout",
     "output_type": "stream",
     "text": [
      "        PVP  PC.UNIT\n",
      "6     15.00    7.500\n",
      "7     42.00   21.000\n",
      "8     20.00   10.000\n",
      "9     15.00    7.500\n",
      "10    16.50    8.250\n",
      "11    20.00   10.000\n",
      "12    16.50    8.250\n",
      "13   650.00  325.000\n",
      "14   250.00  125.000\n",
      "15    80.00   40.000\n",
      "17   550.00  275.000\n",
      "18   250.00  125.000\n",
      "19   550.00  275.000\n",
      "22    20.00   10.000\n",
      "30     2.34    1.170\n",
      "31     5.20    2.600\n",
      "32     1.95    0.975\n",
      "133    0.77    0.385\n",
      "157    3.70    1.000\n",
      "162    3.38    1.300\n",
      "163    3.30    1.625\n",
      "177   15.00    7.500\n",
      "182   13.40    5.270\n",
      "183   11.00    5.400\n",
      "230   11.00    3.050\n",
      "638   20.00    6.760\n"
     ]
    }
   ],
   "source": [
    "filtro_familia_45 = ventas_semanales['FAMILIA'] == 45\n",
    "columnas_interesantes = ['PVP', 'PC.UNIT']\n",
    "\n",
    "print(ventas_semanales.loc[filtro_familia_45, columnas_interesantes])"
   ]
  },
  {
   "cell_type": "code",
   "execution_count": 85,
   "metadata": {},
   "outputs": [
    {
     "name": "stdout",
     "output_type": "stream",
     "text": [
      "Index(['REFERENCIA', 'DESCRIPCION', 'COD.CLIENTE', 'CANTIDAD', 'PVP', 'DTO.V',\n",
      "       'TTL', 'SERIE', 'NFAC', 'FECHA', 'COD.COMERCIAL', 'FAMILIA', 'FACTURA',\n",
      "       'DIA', 'MES', 'MES.TXT', 'AÑO', 'D.SEM', 'SEMANA', 'TRIMESTRE',\n",
      "       'CLIENTE', 'COMERCIAL', 'VENDIDO POR', 'PC.UNIT'],\n",
      "      dtype='object')\n"
     ]
    }
   ],
   "source": [
    "print(ventas_semanales.columns)"
   ]
  },
  {
   "cell_type": "code",
   "execution_count": 86,
   "metadata": {},
   "outputs": [],
   "source": [
    "ventas_semanales['PC.UNIT']=ventas_semanales['PC.UNIT'].astype(float)\n",
    "ventas_semanales['CANTIDAD']=ventas_semanales['CANTIDAD'].astype(float)\n",
    "ventas_semanales['TTL']=ventas_semanales['TTL'].astype(float)"
   ]
  },
  {
   "cell_type": "code",
   "execution_count": 87,
   "metadata": {},
   "outputs": [],
   "source": [
    "ventas_semanales['PC.TTL']= ventas_semanales['PC.UNIT'] * ventas_semanales['CANTIDAD']\n"
   ]
  },
  {
   "cell_type": "code",
   "execution_count": 88,
   "metadata": {},
   "outputs": [],
   "source": [
    "ventas_semanales['BENEFICIO']= ventas_semanales['TTL'] - ventas_semanales['PC.TTL']\n"
   ]
  },
  {
   "cell_type": "code",
   "execution_count": 89,
   "metadata": {},
   "outputs": [],
   "source": [
    "ventas_semanales['M'] = round((ventas_semanales['TTL'] / ventas_semanales['PC.TTL'] -1)*100,2)"
   ]
  },
  {
   "cell_type": "code",
   "execution_count": 92,
   "metadata": {},
   "outputs": [],
   "source": [
    "\n",
    "ruta_guardar = r'F:\\VALIJA DIGITAL\\GRS\\analisis\\VSC\\vs_py.xlsx'\n",
    "\n",
    "ventas_semanales.to_excel(ruta_guardar, index=False)\n"
   ]
  },
  {
   "cell_type": "markdown",
   "metadata": {},
   "source": [
    "# Cargar a ventas totales"
   ]
  },
  {
   "cell_type": "code",
   "execution_count": 91,
   "metadata": {},
   "outputs": [],
   "source": [
    "# Carga el excel de ventas totales\n",
    "ventas_totales = pd.read_excel('vt_py.xlsx')"
   ]
  },
  {
   "cell_type": "code",
   "execution_count": 93,
   "metadata": {},
   "outputs": [],
   "source": [
    "# Metemos las nuevas ventas en las totales.\n",
    "ventas_totales = pd.concat([ventas_totales, ventas_semanales], ignore_index=True)"
   ]
  },
  {
   "cell_type": "code",
   "execution_count": 94,
   "metadata": {},
   "outputs": [],
   "source": [
    "ruta2 = r'F:\\VALIJA DIGITAL\\GRS\\analisis\\VSC\\prueba.xlsx'"
   ]
  },
  {
   "cell_type": "code",
   "execution_count": 95,
   "metadata": {},
   "outputs": [],
   "source": [
    "# Guardamos el excel nuevo para la semana próxima\n",
    "ventas_totales.to_excel(ruta2, index=False)"
   ]
  },
  {
   "cell_type": "markdown",
   "metadata": {},
   "source": [
    "# ENCHUFAR A SQL UNA TABLA HECHA CON EXCEL DESDE PYTHON"
   ]
  },
  {
   "cell_type": "code",
   "execution_count": 124,
   "metadata": {},
   "outputs": [],
   "source": [
    "import pandas as pd\n",
    "import sqlalchemy\n",
    "import pyodbc"
   ]
  },
  {
   "cell_type": "code",
   "execution_count": 131,
   "metadata": {},
   "outputs": [],
   "source": [
    "# Configurar la conexión a SQL Server\n",
    "server = 'PRA_GENERAL\\SQLEXPRESS'\n",
    "database = 'Prueba DB'\n",
    "conn_str = f'mssql+pyodbc://@{server}/{database}?trusted_connection=yes&driver=ODBC+Driver+17+for+SQL+Server'\n",
    "engine = sqlalchemy.create_engine(conn_str)"
   ]
  },
  {
   "cell_type": "code",
   "execution_count": 132,
   "metadata": {},
   "outputs": [],
   "source": [
    "# Conexión con pyodbc para ejecutar la consulta de eliminación\n",
    "conn = pyodbc.connect('DRIVER={ODBC Driver 17 for SQL Server};SERVER=' + server + ';DATABASE=' + database + ';Trusted_Connection=yes')\n",
    "cursor = conn.cursor()\n"
   ]
  },
  {
   "cell_type": "code",
   "execution_count": 127,
   "metadata": {},
   "outputs": [],
   "source": [
    "# Nombre de la tabla en la base de datos\n",
    "tabla_sql = 'dbo.hola_desde_python'"
   ]
  },
  {
   "cell_type": "code",
   "execution_count": 133,
   "metadata": {},
   "outputs": [],
   "source": [
    "# Eliminar la tabla si existe\n",
    "drop_table_query = f\"\"\"\n",
    "IF OBJECT_ID('{tabla_sql}', 'U') IS NOT NULL\n",
    "DROP TABLE {tabla_sql};\n",
    "\"\"\"\n",
    "cursor.execute(drop_table_query)\n",
    "conn.commit()\n",
    "cursor.close()\n",
    "conn.close()"
   ]
  },
  {
   "cell_type": "code",
   "execution_count": 129,
   "metadata": {},
   "outputs": [],
   "source": [
    "# Cargar los datos desde el archivo Excel\n",
    "df = pd.read_excel('prueba_sql.xlsx')"
   ]
  },
  {
   "cell_type": "code",
   "execution_count": 111,
   "metadata": {},
   "outputs": [],
   "source": [
    "# Definir los tipos de datos para cada columna\n",
    "dtype_mapping = {\n",
    "    'REFERENCIA': sqlalchemy.types.NVARCHAR(length=255),\n",
    "    'DESCRIPCION': sqlalchemy.types.NVARCHAR(length=255),\n",
    "    'COD.CLIENTE': sqlalchemy.types.Float,\n",
    "    'CANTIDAD': sqlalchemy.types.Float,\n",
    "    'PVP': sqlalchemy.types.Float,\n",
    "    'DTO.V': sqlalchemy.types.Float,\n",
    "    'TTL': sqlalchemy.types.Float,\n",
    "    'SERIE': sqlalchemy.types.NVARCHAR(length=255),\n",
    "    'NFAC': sqlalchemy.types.Float,\n",
    "    'FECHA': sqlalchemy.types.DateTime,\n",
    "    'COD.COMERCIAL': sqlalchemy.types.Float,\n",
    "    'FAMILIA': sqlalchemy.types.NVARCHAR(length=255),\n",
    "    'FACTURA': sqlalchemy.types.NVARCHAR(length=255),\n",
    "    'DIA': sqlalchemy.types.Float,\n",
    "    'MES': sqlalchemy.types.Float,\n",
    "    'MES.TXT': sqlalchemy.types.NVARCHAR(length=255),\n",
    "    'AÑO': sqlalchemy.types.Float,\n",
    "    'D.SEM': sqlalchemy.types.NVARCHAR(length=255),\n",
    "    'SEMANA': sqlalchemy.types.Float,\n",
    "    'TRIMESTRE': sqlalchemy.types.Float,\n",
    "    'CLIENTE': sqlalchemy.types.NVARCHAR(length=255),\n",
    "    'COMERCIAL': sqlalchemy.types.NVARCHAR(length=255),\n",
    "    'VENDIDO POR': sqlalchemy.types.NVARCHAR(length=255),\n",
    "    'PC.UNIT': sqlalchemy.types.Float,\n",
    "    'PC.TTL': sqlalchemy.types.Float,\n",
    "    'BENEFICIO': sqlalchemy.types.Float,\n",
    "    'MARGEN': sqlalchemy.types.Float\n",
    "}\n"
   ]
  },
  {
   "cell_type": "code",
   "execution_count": 112,
   "metadata": {},
   "outputs": [],
   "source": [
    "\n",
    "# Crear la tabla en la base de datos SQL Server con los datos del DataFrame\n",
    "df.to_sql(name=tabla_sql, con=engine, if_exists='replace', index=False, dtype=dtype_mapping)\n"
   ]
  }
 ],
 "metadata": {
  "kernelspec": {
   "display_name": "venv",
   "language": "python",
   "name": "python3"
  },
  "language_info": {
   "codemirror_mode": {
    "name": "ipython",
    "version": 3
   },
   "file_extension": ".py",
   "mimetype": "text/x-python",
   "name": "python",
   "nbconvert_exporter": "python",
   "pygments_lexer": "ipython3",
   "version": "3.11.9"
  }
 },
 "nbformat": 4,
 "nbformat_minor": 2
}
